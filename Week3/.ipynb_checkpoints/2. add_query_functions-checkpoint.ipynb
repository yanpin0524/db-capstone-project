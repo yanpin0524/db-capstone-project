{
 "cells": [
  {
   "cell_type": "markdown",
   "id": "84c6d29e",
   "metadata": {},
   "source": [
    "## Task 1"
   ]
  },
  {
   "cell_type": "code",
   "execution_count": 2,
   "id": "c0fcdbd5",
   "metadata": {},
   "outputs": [],
   "source": [
    "import mysql.connector as connector"
   ]
  },
  {
   "cell_type": "code",
   "execution_count": 6,
   "id": "d1ca5ceb",
   "metadata": {},
   "outputs": [],
   "source": [
    "connection = connector.connect(user = \"root\", password = \"123\", db = \"LittleLemonDB\")"
   ]
  },
  {
   "cell_type": "code",
   "execution_count": 7,
   "id": "064f748c",
   "metadata": {},
   "outputs": [
    {
     "name": "stdout",
     "output_type": "stream",
     "text": [
      "True\n"
     ]
    }
   ],
   "source": [
    "print(connection.is_connected())"
   ]
  },
  {
   "cell_type": "code",
   "execution_count": 9,
   "id": "7bb08f46",
   "metadata": {},
   "outputs": [],
   "source": [
    "cursor = connection.cursor()"
   ]
  },
  {
   "cell_type": "markdown",
   "id": "2cf46289",
   "metadata": {},
   "source": [
    "## Task 2"
   ]
  },
  {
   "cell_type": "code",
   "execution_count": 25,
   "id": "64dff1e4",
   "metadata": {},
   "outputs": [],
   "source": [
    "show_tables_query = \"SHOW TABLES\"\n",
    "cursor.execute(show_tables_query)"
   ]
  },
  {
   "cell_type": "code",
   "execution_count": 26,
   "id": "5ea710b8",
   "metadata": {},
   "outputs": [],
   "source": [
    "results = cursor.fetchall()"
   ]
  },
  {
   "cell_type": "code",
   "execution_count": 27,
   "id": "0f1e8e29",
   "metadata": {},
   "outputs": [
    {
     "name": "stdout",
     "output_type": "stream",
     "text": [
      "[('Bookings',), ('Customers',), ('MenuAndMenuItems',), ('MenuItems',), ('Menus',), ('OrderDeliveryStatus',), ('Orders',), ('ordersview',), ('Roles',), ('Staffs',)]\n"
     ]
    }
   ],
   "source": [
    "print(results)"
   ]
  },
  {
   "cell_type": "code",
   "execution_count": 28,
   "id": "9156f3c0",
   "metadata": {},
   "outputs": [
    {
     "name": "stdout",
     "output_type": "stream",
     "text": [
      "Bookings \n",
      "-----------------------\n",
      "Customers \n",
      "-----------------------\n",
      "MenuAndMenuItems \n",
      "-----------------------\n",
      "MenuItems \n",
      "-----------------------\n",
      "Menus \n",
      "-----------------------\n",
      "OrderDeliveryStatus \n",
      "-----------------------\n",
      "Orders \n",
      "-----------------------\n",
      "ordersview \n",
      "-----------------------\n",
      "Roles \n",
      "-----------------------\n",
      "Staffs \n",
      "-----------------------\n"
     ]
    }
   ],
   "source": [
    "for table in results:\n",
    "    print(table[0],'\\n-----------------------')"
   ]
  },
  {
   "cell_type": "markdown",
   "id": "99d737d3",
   "metadata": {},
   "source": [
    "## Task 3"
   ]
  },
  {
   "cell_type": "code",
   "execution_count": 29,
   "id": "37af1c19",
   "metadata": {},
   "outputs": [],
   "source": [
    "join_query = '''\n",
    "SELECT Customers.name, Customers.phoneNumber, Orders.totalCost\n",
    "FROM Orders\n",
    "INNER JOIN Customers\n",
    "ON Orders.customerID = Customers.customerID\n",
    "WHERE Orders.totalCost >= 60;\n",
    "'''\n",
    "\n",
    "cursor.execute(join_query)"
   ]
  },
  {
   "cell_type": "code",
   "execution_count": 30,
   "id": "04d4fbe6",
   "metadata": {},
   "outputs": [],
   "source": [
    "results = cursor.fetchall()"
   ]
  },
  {
   "cell_type": "code",
   "execution_count": 32,
   "id": "cdad552f",
   "metadata": {},
   "outputs": [
    {
     "name": "stdout",
     "output_type": "stream",
     "text": [
      "('name', 'phoneNumber', 'totalCost')\n",
      "| 陳小明 | 912123456 | 100 |\n",
      "| 張瑞祥 | 912123458 | 150 |\n",
      "| 李婷婷 | 912123459 | 120 |\n",
      "| 王大勇 | 912123455 | 60 |\n"
     ]
    }
   ],
   "source": [
    "print(cursor.column_names)\n",
    "for row in results:\n",
    "    print('|', row[0], '|', row[1], '|', row[2], '|')"
   ]
  }
 ],
 "metadata": {
  "kernelspec": {
   "display_name": "Python 3 (ipykernel)",
   "language": "python",
   "name": "python3"
  },
  "language_info": {
   "codemirror_mode": {
    "name": "ipython",
    "version": 3
   },
   "file_extension": ".py",
   "mimetype": "text/x-python",
   "name": "python",
   "nbconvert_exporter": "python",
   "pygments_lexer": "ipython3",
   "version": "3.9.12"
  }
 },
 "nbformat": 4,
 "nbformat_minor": 5
}
